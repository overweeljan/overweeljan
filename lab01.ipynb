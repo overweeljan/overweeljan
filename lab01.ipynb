{
  "nbformat": 4,
  "nbformat_minor": 0,
  "metadata": {
    "kernelspec": {
      "display_name": "Python 3",
      "language": "python",
      "name": "python3"
    },
    "language_info": {
      "codemirror_mode": {
        "name": "ipython",
        "version": 3
      },
      "file_extension": ".py",
      "mimetype": "text/x-python",
      "name": "python",
      "nbconvert_exporter": "python",
      "pygments_lexer": "ipython3",
      "version": "3.7.4"
    },
    "colab": {
      "name": "lab01",
      "provenance": [],
      "collapsed_sections": [],
      "include_colab_link": true
    }
  },
  "cells": [
    {
      "cell_type": "markdown",
      "metadata": {
        "id": "view-in-github",
        "colab_type": "text"
      },
      "source": [
        "<a href=\"https://colab.research.google.com/github/overweeljan/overweeljan/blob/main/lab01.ipynb\" target=\"_parent\"><img src=\"https://colab.research.google.com/assets/colab-badge.svg\" alt=\"Open In Colab\"/></a>"
      ]
    },
    {
      "cell_type": "code",
      "metadata": {
        "colab": {
          "base_uri": "https://localhost:8080/"
        },
        "id": "CodJYqS68xZc",
        "outputId": "5618b81e-4a38-461f-a354-6314534e7d66"
      },
      "source": [
        "!pip install qiskit"
      ],
      "execution_count": null,
      "outputs": [
        {
          "output_type": "stream",
          "text": [
            "Collecting qiskit\n",
            "  Downloading https://files.pythonhosted.org/packages/8b/b6/9e38d181beb9dd07748cb36eb37ba5dfd43c34e7e1cab0afcd15e949c306/qiskit-0.23.2.tar.gz\n",
            "Collecting qiskit-terra==0.16.1\n",
            "\u001b[?25l  Downloading https://files.pythonhosted.org/packages/66/91/813c0b986fa953d09ff58c74a7948bf9d52c64497319746bb4a1bb0e7f3a/qiskit_terra-0.16.1-cp36-cp36m-manylinux2010_x86_64.whl (8.5MB)\n",
            "\u001b[K     |████████████████████████████████| 8.5MB 6.2MB/s \n",
            "\u001b[?25hCollecting qiskit-aer==0.7.2\n",
            "\u001b[?25l  Downloading https://files.pythonhosted.org/packages/9b/5a/caa85b889de9aa4250fff68e76ad82fd2916f63b1eb3cced1c5419efe215/qiskit_aer-0.7.2-cp36-cp36m-manylinux2010_x86_64.whl (17.6MB)\n",
            "\u001b[K     |████████████████████████████████| 17.6MB 257kB/s \n",
            "\u001b[?25hCollecting qiskit-ibmq-provider==0.11.1\n",
            "\u001b[?25l  Downloading https://files.pythonhosted.org/packages/32/b9/f99bec4fdc4dec234d8a85a8da378750441a203c614be35353f5e8738316/qiskit_ibmq_provider-0.11.1-py3-none-any.whl (195kB)\n",
            "\u001b[K     |████████████████████████████████| 204kB 41.0MB/s \n",
            "\u001b[?25hCollecting qiskit-ignis==0.5.1\n",
            "\u001b[?25l  Downloading https://files.pythonhosted.org/packages/f7/42/5e151db90ebeb0d08d0f799f72c1922cded76065b03c4ca4fc11ec0085ce/qiskit_ignis-0.5.1-py3-none-any.whl (204kB)\n",
            "\u001b[K     |████████████████████████████████| 204kB 47.2MB/s \n",
            "\u001b[?25hCollecting qiskit-aqua==0.8.1\n",
            "\u001b[?25l  Downloading https://files.pythonhosted.org/packages/4d/5f/41abad4b0375effe79a51a20130da6c18bb2101c257366aab0f300197e53/qiskit_aqua-0.8.1-py3-none-any.whl (2.1MB)\n",
            "\u001b[K     |████████████████████████████████| 2.1MB 31.8MB/s \n",
            "\u001b[?25hRequirement already satisfied: psutil>=5 in /usr/local/lib/python3.6/dist-packages (from qiskit-terra==0.16.1->qiskit) (5.4.8)\n",
            "Collecting python-constraint>=1.4\n",
            "  Downloading https://files.pythonhosted.org/packages/37/8b/5f1bc2734ca611943e1d6733ee244238679f6410a10cd45ede55a61a8402/python-constraint-1.4.0.tar.bz2\n",
            "Requirement already satisfied: dill>=0.3 in /usr/local/lib/python3.6/dist-packages (from qiskit-terra==0.16.1->qiskit) (0.3.3)\n",
            "Collecting contextvars>=2.4; python_version < \"3.7\"\n",
            "  Downloading https://files.pythonhosted.org/packages/83/96/55b82d9f13763be9d672622e1b8106c85acb83edd7cc2fa5bc67cd9877e9/contextvars-2.4.tar.gz\n",
            "Collecting retworkx>=0.5.0\n",
            "\u001b[?25l  Downloading https://files.pythonhosted.org/packages/b7/21/5d4498cedb23927a31173176975e2162e0d6a2b80846ef254dd5500e10da/retworkx-0.7.2-cp36-cp36m-manylinux2010_x86_64.whl (1.3MB)\n",
            "\u001b[K     |████████████████████████████████| 1.3MB 38.6MB/s \n",
            "\u001b[?25hRequirement already satisfied: jsonschema>=2.6 in /usr/local/lib/python3.6/dist-packages (from qiskit-terra==0.16.1->qiskit) (2.6.0)\n",
            "Collecting sympy>=1.3\n",
            "\u001b[?25l  Downloading https://files.pythonhosted.org/packages/ff/69/b16fc81b939d3efdd0b552f2e3e54f7fa1423d0c320cced2e69e675dde26/sympy-1.7.1-py3-none-any.whl (5.9MB)\n",
            "\u001b[K     |████████████████████████████████| 5.9MB 39.7MB/s \n",
            "\u001b[?25hRequirement already satisfied: networkx>=2.2 in /usr/local/lib/python3.6/dist-packages (from qiskit-terra==0.16.1->qiskit) (2.5)\n",
            "Collecting ply>=3.10\n",
            "\u001b[?25l  Downloading https://files.pythonhosted.org/packages/a3/58/35da89ee790598a0700ea49b2a66594140f44dec458c07e8e3d4979137fc/ply-3.11-py2.py3-none-any.whl (49kB)\n",
            "\u001b[K     |████████████████████████████████| 51kB 5.7MB/s \n",
            "\u001b[?25hRequirement already satisfied: scipy>=1.4 in /usr/local/lib/python3.6/dist-packages (from qiskit-terra==0.16.1->qiskit) (1.4.1)\n",
            "Collecting fastjsonschema>=2.10\n",
            "  Downloading https://files.pythonhosted.org/packages/c7/47/e860ab658dc2da844e6fdb76b12f6b3e14fbcb62fdd04f3e1c572bca20e1/fastjsonschema-2.14.5-py3-none-any.whl\n",
            "Requirement already satisfied: python-dateutil>=2.8.0 in /usr/local/lib/python3.6/dist-packages (from qiskit-terra==0.16.1->qiskit) (2.8.1)\n",
            "Requirement already satisfied: numpy>=1.17 in /usr/local/lib/python3.6/dist-packages (from qiskit-terra==0.16.1->qiskit) (1.19.5)\n",
            "Requirement already satisfied: cython>=0.27.1 in /usr/local/lib/python3.6/dist-packages (from qiskit-aer==0.7.2->qiskit) (0.29.21)\n",
            "Collecting pybind11>=2.4\n",
            "\u001b[?25l  Downloading https://files.pythonhosted.org/packages/00/84/fc9dc13ee536ba5e6b8fd10ce368fea5b738fe394c3b296cde7c9b144a92/pybind11-2.6.1-py2.py3-none-any.whl (188kB)\n",
            "\u001b[K     |████████████████████████████████| 194kB 49.9MB/s \n",
            "\u001b[?25hRequirement already satisfied: urllib3>=1.21.1 in /usr/local/lib/python3.6/dist-packages (from qiskit-ibmq-provider==0.11.1->qiskit) (1.24.3)\n",
            "Collecting requests-ntlm>=1.1.0\n",
            "  Downloading https://files.pythonhosted.org/packages/03/4b/8b9a1afde8072c4d5710d9fa91433d504325821b038e00237dc8d6d833dc/requests_ntlm-1.1.0-py2.py3-none-any.whl\n",
            "Requirement already satisfied: nest-asyncio!=1.1.0,>=1.0.0 in /usr/local/lib/python3.6/dist-packages (from qiskit-ibmq-provider==0.11.1->qiskit) (1.4.3)\n",
            "Collecting websockets>=8\n",
            "\u001b[?25l  Downloading https://files.pythonhosted.org/packages/bb/d9/856af84843912e2853b1b6e898ac8b802989fcf9ecf8e8445a1da263bf3b/websockets-8.1-cp36-cp36m-manylinux2010_x86_64.whl (78kB)\n",
            "\u001b[K     |████████████████████████████████| 81kB 6.8MB/s \n",
            "\u001b[?25hRequirement already satisfied: requests>=2.19 in /usr/local/lib/python3.6/dist-packages (from qiskit-ibmq-provider==0.11.1->qiskit) (2.23.0)\n",
            "Requirement already satisfied: scikit-learn>=0.17 in /usr/local/lib/python3.6/dist-packages (from qiskit-ignis==0.5.1->qiskit) (0.22.2.post1)\n",
            "Requirement already satisfied: setuptools>=40.1.0 in /usr/local/lib/python3.6/dist-packages (from qiskit-ignis==0.5.1->qiskit) (51.3.3)\n",
            "Requirement already satisfied: pandas in /usr/local/lib/python3.6/dist-packages (from qiskit-aqua==0.8.1->qiskit) (1.1.5)\n",
            "Requirement already satisfied: fastdtw in /usr/local/lib/python3.6/dist-packages (from qiskit-aqua==0.8.1->qiskit) (0.3.4)\n",
            "Requirement already satisfied: h5py in /usr/local/lib/python3.6/dist-packages (from qiskit-aqua==0.8.1->qiskit) (2.10.0)\n",
            "Collecting docplex\n",
            "\u001b[?25l  Downloading https://files.pythonhosted.org/packages/6e/53/7d85a2e2b8559d3dc08ffde370c0f57189ffd9e35493acf1f719f6ac5e0d/docplex-2.19.202.tar.gz (607kB)\n",
            "\u001b[K     |████████████████████████████████| 614kB 41.7MB/s \n",
            "\u001b[?25hCollecting dlx\n",
            "  Downloading https://files.pythonhosted.org/packages/54/c0/b8fb5bb727e983b6f5251433ef941b48f38c65bb0bd6ec509e9185bcd406/dlx-1.0.4.tar.gz\n",
            "Collecting quandl\n",
            "  Downloading https://files.pythonhosted.org/packages/c2/58/9f0e69d836045e3865d263e9ed49f42b23a58526fdabb30f74c430baee3f/Quandl-3.6.0-py2.py3-none-any.whl\n",
            "Collecting yfinance\n",
            "  Downloading https://files.pythonhosted.org/packages/7a/e8/b9d7104d3a4bf39924799067592d9e59119fcfc900a425a12e80a3123ec8/yfinance-0.1.55.tar.gz\n",
            "Collecting immutables>=0.9\n",
            "\u001b[?25l  Downloading https://files.pythonhosted.org/packages/99/e0/ea6fd4697120327d26773b5a84853f897a68e33d3f9376b00a8ff96e4f63/immutables-0.14-cp36-cp36m-manylinux1_x86_64.whl (98kB)\n",
            "\u001b[K     |████████████████████████████████| 102kB 9.6MB/s \n",
            "\u001b[?25hRequirement already satisfied: mpmath>=0.19 in /usr/local/lib/python3.6/dist-packages (from sympy>=1.3->qiskit-terra==0.16.1->qiskit) (1.1.0)\n",
            "Requirement already satisfied: decorator>=4.3.0 in /usr/local/lib/python3.6/dist-packages (from networkx>=2.2->qiskit-terra==0.16.1->qiskit) (4.4.2)\n",
            "Requirement already satisfied: six>=1.5 in /usr/local/lib/python3.6/dist-packages (from python-dateutil>=2.8.0->qiskit-terra==0.16.1->qiskit) (1.15.0)\n",
            "Collecting cryptography>=1.3\n",
            "\u001b[?25l  Downloading https://files.pythonhosted.org/packages/c9/de/7054df0620b5411ba45480f0261e1fb66a53f3db31b28e3aa52c026e72d9/cryptography-3.3.1-cp36-abi3-manylinux2010_x86_64.whl (2.6MB)\n",
            "\u001b[K     |████████████████████████████████| 2.6MB 37.1MB/s \n",
            "\u001b[?25hCollecting ntlm-auth>=1.0.2\n",
            "  Downloading https://files.pythonhosted.org/packages/ff/84/97c550164b54942b0e908c31ef09d9469f3ba4cd7332a671e2125732f63b/ntlm_auth-1.5.0-py2.py3-none-any.whl\n",
            "Requirement already satisfied: chardet<4,>=3.0.2 in /usr/local/lib/python3.6/dist-packages (from requests>=2.19->qiskit-ibmq-provider==0.11.1->qiskit) (3.0.4)\n",
            "Requirement already satisfied: idna<3,>=2.5 in /usr/local/lib/python3.6/dist-packages (from requests>=2.19->qiskit-ibmq-provider==0.11.1->qiskit) (2.10)\n",
            "Requirement already satisfied: certifi>=2017.4.17 in /usr/local/lib/python3.6/dist-packages (from requests>=2.19->qiskit-ibmq-provider==0.11.1->qiskit) (2020.12.5)\n",
            "Requirement already satisfied: joblib>=0.11 in /usr/local/lib/python3.6/dist-packages (from scikit-learn>=0.17->qiskit-ignis==0.5.1->qiskit) (1.0.0)\n",
            "Requirement already satisfied: pytz>=2017.2 in /usr/local/lib/python3.6/dist-packages (from pandas->qiskit-aqua==0.8.1->qiskit) (2018.9)\n",
            "Collecting inflection>=0.3.1\n",
            "  Downloading https://files.pythonhosted.org/packages/59/91/aa6bde563e0085a02a435aa99b49ef75b0a4b062635e606dab23ce18d720/inflection-0.5.1-py2.py3-none-any.whl\n",
            "Requirement already satisfied: more-itertools in /usr/local/lib/python3.6/dist-packages (from quandl->qiskit-aqua==0.8.1->qiskit) (8.6.0)\n",
            "Requirement already satisfied: multitasking>=0.0.7 in /usr/local/lib/python3.6/dist-packages (from yfinance->qiskit-aqua==0.8.1->qiskit) (0.0.9)\n",
            "Collecting lxml>=4.5.1\n",
            "\u001b[?25l  Downloading https://files.pythonhosted.org/packages/bd/78/56a7c88a57d0d14945472535d0df9fb4bbad7d34ede658ec7961635c790e/lxml-4.6.2-cp36-cp36m-manylinux1_x86_64.whl (5.5MB)\n",
            "\u001b[K     |████████████████████████████████| 5.5MB 34.2MB/s \n",
            "\u001b[?25hRequirement already satisfied: cffi>=1.12 in /usr/local/lib/python3.6/dist-packages (from cryptography>=1.3->requests-ntlm>=1.1.0->qiskit-ibmq-provider==0.11.1->qiskit) (1.14.4)\n",
            "Requirement already satisfied: pycparser in /usr/local/lib/python3.6/dist-packages (from cffi>=1.12->cryptography>=1.3->requests-ntlm>=1.1.0->qiskit-ibmq-provider==0.11.1->qiskit) (2.20)\n",
            "Building wheels for collected packages: qiskit, python-constraint, contextvars, docplex, dlx, yfinance\n",
            "  Building wheel for qiskit (setup.py) ... \u001b[?25l\u001b[?25hdone\n",
            "  Created wheel for qiskit: filename=qiskit-0.23.2-cp36-none-any.whl size=2876 sha256=c9a02df53b4a696d02a5851e762d9e8e176c4cfe01811330b400753471a1cb92\n",
            "  Stored in directory: /root/.cache/pip/wheels/c2/62/3e/d5aeec3b19ba0e2c0c10292747d0bd4489b34e3f3385a908d0\n",
            "  Building wheel for python-constraint (setup.py) ... \u001b[?25l\u001b[?25hdone\n",
            "  Created wheel for python-constraint: filename=python_constraint-1.4.0-py2.py3-none-any.whl size=24079 sha256=1ac4d4feb0cbb4d23e212294dd3be9e8d6860533df89606b2a7c32b8d99b4009\n",
            "  Stored in directory: /root/.cache/pip/wheels/34/31/15/7b070b25d0a549d20ce2e9fe6d727471c2c61ef904720fd40c\n",
            "  Building wheel for contextvars (setup.py) ... \u001b[?25l\u001b[?25hdone\n",
            "  Created wheel for contextvars: filename=contextvars-2.4-cp36-none-any.whl size=7667 sha256=827b8d8a536651a2bb57676bedde044a71349557ad0cdb05417db5a18240ba7d\n",
            "  Stored in directory: /root/.cache/pip/wheels/a5/7d/68/1ebae2668bda2228686e3c1cf16f2c2384cea6e9334ad5f6de\n",
            "  Building wheel for docplex (setup.py) ... \u001b[?25l\u001b[?25hdone\n",
            "  Created wheel for docplex: filename=docplex-2.19.202-cp36-none-any.whl size=670938 sha256=6cbe644f395e8cd9471e01d3f3678f92b67fa0a0d0eb2e738829b351eaf0daef\n",
            "  Stored in directory: /root/.cache/pip/wheels/33/bb/64/5dd51006e730eb1227b8033d1f9e2246b806d9985a70c90d99\n",
            "  Building wheel for dlx (setup.py) ... \u001b[?25l\u001b[?25hdone\n",
            "  Created wheel for dlx: filename=dlx-1.0.4-cp36-none-any.whl size=5711 sha256=4aa2a2f7f199db8d9b547d1236cf7d3637a893bd5fffbef71a80a2f04cf87ce9\n",
            "  Stored in directory: /root/.cache/pip/wheels/bb/ba/15/fdd0deb104df3254912998150ba9245668db06b00af5912d1a\n",
            "  Building wheel for yfinance (setup.py) ... \u001b[?25l\u001b[?25hdone\n",
            "  Created wheel for yfinance: filename=yfinance-0.1.55-py2.py3-none-any.whl size=22616 sha256=f4b56b7fb152f67dc6efd73d80b7f02d9fc1f88ab9e9766dd06686b5e41b4231\n",
            "  Stored in directory: /root/.cache/pip/wheels/04/98/cc/2702a4242d60bdc14f48b4557c427ded1fe92aedf257d4565c\n",
            "Successfully built qiskit python-constraint contextvars docplex dlx yfinance\n",
            "Installing collected packages: python-constraint, immutables, contextvars, retworkx, sympy, ply, fastjsonschema, qiskit-terra, pybind11, qiskit-aer, cryptography, ntlm-auth, requests-ntlm, websockets, qiskit-ibmq-provider, qiskit-ignis, docplex, dlx, inflection, quandl, lxml, yfinance, qiskit-aqua, qiskit\n",
            "  Found existing installation: sympy 1.1.1\n",
            "    Uninstalling sympy-1.1.1:\n",
            "      Successfully uninstalled sympy-1.1.1\n",
            "  Found existing installation: lxml 4.2.6\n",
            "    Uninstalling lxml-4.2.6:\n",
            "      Successfully uninstalled lxml-4.2.6\n",
            "Successfully installed contextvars-2.4 cryptography-3.3.1 dlx-1.0.4 docplex-2.19.202 fastjsonschema-2.14.5 immutables-0.14 inflection-0.5.1 lxml-4.6.2 ntlm-auth-1.5.0 ply-3.11 pybind11-2.6.1 python-constraint-1.4.0 qiskit-0.23.2 qiskit-aer-0.7.2 qiskit-aqua-0.8.1 qiskit-ibmq-provider-0.11.1 qiskit-ignis-0.5.1 qiskit-terra-0.16.1 quandl-3.6.0 requests-ntlm-1.1.0 retworkx-0.7.2 sympy-1.7.1 websockets-8.1 yfinance-0.1.55\n"
          ],
          "name": "stdout"
        }
      ]
    },
    {
      "cell_type": "code",
      "metadata": {
        "id": "2SafVGZ08wnF"
      },
      "source": [
        "import qiskit"
      ],
      "execution_count": null,
      "outputs": []
    },
    {
      "cell_type": "markdown",
      "metadata": {
        "id": "RZnniMpT8wnH"
      },
      "source": [
        "# Lab 1"
      ]
    },
    {
      "cell_type": "markdown",
      "metadata": {
        "id": "E-nRlPeO8wnH"
      },
      "source": [
        "In this lab you will be reconstructing circuits from given input and output states using Qiskit.\n",
        "$$\\newcommand{\\bra}[1]{\\left\\langle{#1}\\right|}$$\n",
        "$$\\newcommand{\\ket}[1]{\\left|{#1}\\right\\rangle}$$"
      ]
    },
    {
      "cell_type": "markdown",
      "metadata": {
        "id": "fd16Z66G8wnH"
      },
      "source": [
        "## Example"
      ]
    },
    {
      "cell_type": "markdown",
      "metadata": {
        "id": "WW64Z9q28wnI"
      },
      "source": [
        "This is an example for how to build a cirucit using Qiskit. This goes over how to create a circuit, and apply basic gates to the qubits."
      ]
    },
    {
      "cell_type": "markdown",
      "metadata": {
        "id": "IllAAXG18wnI"
      },
      "source": [
        "### Circuit Creation"
      ]
    },
    {
      "cell_type": "code",
      "metadata": {
        "id": "VgFWhBrq8wnI"
      },
      "source": [
        "# Allocate a 3 Qubit Quantum Register\n",
        "qrex = qiskit.QuantumRegister(3)\n",
        "# Allocate a 3 Qubit Register \n",
        "crex = qiskit.ClassicalRegister(3)\n",
        "# Create a Quantum Circuit that has 1 3-Qubit Quantum Register and 1 3-Bit Classical Register\n",
        "qcex = qiskit.QuantumCircuit(qrex, crex)"
      ],
      "execution_count": null,
      "outputs": []
    },
    {
      "cell_type": "markdown",
      "metadata": {
        "id": "aKl_Sgpx8wnI"
      },
      "source": [
        "### Gates"
      ]
    },
    {
      "cell_type": "code",
      "metadata": {
        "colab": {
          "base_uri": "https://localhost:8080/",
          "height": 152
        },
        "id": "-wpYH8ol8wnI",
        "outputId": "3a88e391-474a-4e2a-f141-402535b95400"
      },
      "source": [
        "qcex.x(qrex[0]) # Apply an X gate to the first qubit.\n",
        "qcex.z(qrex[1]) # Apply a Z gate to the second qubit.\n",
        "qcex.h(qrex[2]) # Apply an H gate to the third qubit.\n",
        "qcex.cx(qrex[0], qrex[1]) # Apply a CNOT gate where the control is the first qubit and the target is the second.\n",
        "qcex.cx(qrex[1], qrex[0]) # Apply a CNOT gate where the control is the second qubit and the target is the first.\n",
        "qcex.swap(qrex[1], qrex[2]) # Apply a SWAP gate between the second and third qubits.  Order does not matter.\n",
        "\n",
        "qcex.measure(qrex, crex) # Applies a measurement gate across all the qubits to classical registers\n",
        "\n",
        "# To look at the circuit, use .draw(), this will generate a string that you\n",
        "# can use to look at the construction.\n",
        "qcex.draw()"
      ],
      "execution_count": null,
      "outputs": [
        {
          "output_type": "execute_result",
          "data": {
            "text/html": [
              "<pre style=\"word-wrap: normal;white-space: pre;background: #fff0;line-height: 1.1;font-family: &quot;Courier New&quot;,Courier,monospace\">      ┌───┐     ┌───┐   ┌─┐      \n",
              "q0_0: ┤ X ├──■──┤ X ├───┤M├──────\n",
              "      ├───┤┌─┴─┐└─┬─┘   └╥┘┌─┐   \n",
              "q0_1: ┤ Z ├┤ X ├──■───X──╫─┤M├───\n",
              "      ├───┤└───┘      │  ║ └╥┘┌─┐\n",
              "q0_2: ┤ H ├───────────X──╫──╫─┤M├\n",
              "      └───┘              ║  ║ └╥┘\n",
              "c0: 3/═══════════════════╩══╩══╩═\n",
              "                         0  1  2 </pre>"
            ],
            "text/plain": [
              "      ┌───┐     ┌───┐   ┌─┐      \n",
              "q0_0: ┤ X ├──■──┤ X ├───┤M├──────\n",
              "      ├───┤┌─┴─┐└─┬─┘   └╥┘┌─┐   \n",
              "q0_1: ┤ Z ├┤ X ├──■───X──╫─┤M├───\n",
              "      ├───┤└───┘      │  ║ └╥┘┌─┐\n",
              "q0_2: ┤ H ├───────────X──╫──╫─┤M├\n",
              "      └───┘              ║  ║ └╥┘\n",
              "c0: 3/═══════════════════╩══╩══╩═\n",
              "                         0  1  2 "
            ]
          },
          "metadata": {
            "tags": []
          },
          "execution_count": 5
        }
      ]
    },
    {
      "cell_type": "markdown",
      "metadata": {
        "id": "FHsHGmbT8wnJ"
      },
      "source": [
        "## Pre-Exercise 1"
      ]
    },
    {
      "cell_type": "markdown",
      "metadata": {
        "id": "L_A2HUTq8wnJ"
      },
      "source": [
        "Recreate the following circuit in Qiskit. Don't worry about spacing, just get the gates in the right order.\n",
        "```\n",
        "                ┌───┐\n",
        "q0_0: ──■───────┤ H ├──X───────\n",
        "      ┌─┴─┐┌───┐└───┘  |  ┌───┐\n",
        "q0_1: ┤ X ├┤ X ├───────|──┤ X ├\n",
        "      └───┘└─┬─┘┌───┐  |  └───┘\n",
        "q0_2: ───────■──┤ Z ├──X───────\n",
        "                └───┘\n",
        "\n",
        "```"
      ]
    },
    {
      "cell_type": "code",
      "metadata": {
        "id": "ebqYrjMr8wnJ"
      },
      "source": [
        "# Circuit set up\n",
        "qrpre = qiskit.QuantumRegister(3)\n",
        "qcpre = qiskit.QuantumCircuit(qrpre)"
      ],
      "execution_count": null,
      "outputs": []
    },
    {
      "cell_type": "markdown",
      "metadata": {
        "id": "eUBFAdhg8wnK"
      },
      "source": [
        "## Exercise 1"
      ]
    },
    {
      "cell_type": "markdown",
      "metadata": {
        "id": "rihXzVdT8wnK"
      },
      "source": [
        "\n",
        "Starting in state $\\ket{0}$ create a circuit that generates a $\\frac{\\sqrt{2}}{2}\\ket{0} - \\frac{\\sqrt{2}}{2}\\ket{1}$ state, or $\\ket{-}$."
      ]
    },
    {
      "cell_type": "code",
      "metadata": {
        "id": "zkCiFfwQ8wnK"
      },
      "source": [
        "# Circuit set up\n",
        "qr1 = qiskit.QuantumRegister(1)\n",
        "qc1 = qiskit.QuantumCircuit(qr1)"
      ],
      "execution_count": null,
      "outputs": []
    },
    {
      "cell_type": "markdown",
      "metadata": {
        "id": "IGaOggXI8wnK"
      },
      "source": [
        "## Exercise 2"
      ]
    },
    {
      "cell_type": "code",
      "metadata": {
        "id": "J4KcAGQH8wnL"
      },
      "source": [
        "# Circuit set up\n",
        "qr2 = qiskit.QuantumRegister(2)\n",
        "qc2 = qiskit.QuantumCircuit(qr2)"
      ],
      "execution_count": null,
      "outputs": []
    },
    {
      "cell_type": "markdown",
      "metadata": {
        "id": "X3Hpy_Va8wnL"
      },
      "source": [
        "Starting in state $\\alpha\\ket{00} + \\beta\\ket{11}$ create a circuit that generates a $\\frac{\\sqrt{2} \\beta}{2}\\ket{00} - \\frac{\\sqrt{2} \\alpha}{2}\\ket{01} + \\frac{\\sqrt{2} \\beta}{2}\\ket{10} + \\frac{\\sqrt{2} \\alpha}{2}\\ket{11}$ state."
      ]
    },
    {
      "cell_type": "code",
      "metadata": {
        "id": "Kip4DQSV8wnL"
      },
      "source": [
        "# Put your circuit here"
      ],
      "execution_count": null,
      "outputs": []
    },
    {
      "cell_type": "markdown",
      "metadata": {
        "id": "kzfzSzST8wnM"
      },
      "source": [
        "## Exercise 3"
      ]
    },
    {
      "cell_type": "code",
      "metadata": {
        "id": "ydDfNglF8wnM"
      },
      "source": [
        "# Circuit set up\n",
        "qr3 = qiskit.QuantumRegister(2)\n",
        "qc3 = qiskit.QuantumCircuit(qr3)"
      ],
      "execution_count": null,
      "outputs": []
    },
    {
      "cell_type": "markdown",
      "metadata": {
        "id": "5e7qy3Hh8wnM"
      },
      "source": [
        "create a circuit that starting in state $\\alpha\\ket{00}$ generates a $-\\frac{\\alpha\\sqrt{2}}{2}\\ket{10} + \\frac{\\alpha\\sqrt{2}}{2}\\ket{11}$ state and starting in state $\\alpha\\ket{11}$ generates a $\\frac{\\alpha\\sqrt{2}}{2}\\ket{00} - \\frac{\\alpha\\sqrt{2}}{2}\\ket{01}$ state.\n",
        "\n",
        "**Hint:** You will need to use a CNOT Gate."
      ]
    },
    {
      "cell_type": "code",
      "metadata": {
        "id": "HttZ8qUA8wnM"
      },
      "source": [
        "# Put your circuit here"
      ],
      "execution_count": null,
      "outputs": []
    },
    {
      "cell_type": "markdown",
      "metadata": {
        "id": "N9MEkElo8wnN"
      },
      "source": [
        "## Exercise 4"
      ]
    },
    {
      "cell_type": "code",
      "metadata": {
        "id": "WhK89l1R8wnN"
      },
      "source": [
        "# Circuit set up\n",
        "qr4 = qiskit.QuantumRegister(2)\n",
        "qc4 = qiskit.QuantumCircuit(qr4)"
      ],
      "execution_count": null,
      "outputs": []
    },
    {
      "cell_type": "markdown",
      "metadata": {
        "id": "VanwuZUF8wnN"
      },
      "source": [
        "Create a circuit that:\n",
        "\n",
        "Starting in state $\\alpha\\ket{00}$ generates a $\\frac{\\alpha}{2}\\ket{00} - \\frac{\\alpha}{2}\\ket{01} - \\frac{\\alpha}{2}\\ket{10} + \\frac{\\alpha}{2}\\ket{11}$ state.\n",
        "\n",
        "Starting in state $\\alpha\\ket{01}$ generates a $\\frac{\\alpha}{2}\\ket{00} - \\frac{\\alpha}{2}\\ket{01} + \\frac{\\alpha}{2}\\ket{10} - \\frac{\\alpha}{2}\\ket{11}$ state.\n",
        "\n",
        "Starting in state $\\alpha\\ket{10}$ generates a $\\frac{\\alpha}{2}\\ket{00} \n",
        "+ \\frac{\\alpha}{2}\\ket{01} - \\frac{\\alpha}{2}\\ket{10} - \\frac{\\alpha}{2}\\ket{11}$ state.\n",
        "\n",
        "Starting in state $\\alpha\\ket{11}$ generates a $\\frac{\\alpha}{2}\\ket{00} + \\frac{\\alpha}{2}\\ket{01} + \\frac{\\alpha}{2}\\ket{10} + \\frac{\\alpha}{2}\\ket{11}$ state."
      ]
    },
    {
      "cell_type": "code",
      "metadata": {
        "id": "gNUPzrHL8wnN"
      },
      "source": [
        "# Put your circuit here"
      ],
      "execution_count": null,
      "outputs": []
    },
    {
      "cell_type": "code",
      "metadata": {
        "id": "1ybyvj37-vVC"
      },
      "source": [
        ""
      ],
      "execution_count": null,
      "outputs": []
    }
  ]
}